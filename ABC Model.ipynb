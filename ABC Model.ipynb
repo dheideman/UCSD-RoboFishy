{
 "cells": [
  {
   "cell_type": "markdown",
   "metadata": {},
   "source": [
    "## ABC Model"
   ]
  },
  {
   "cell_type": "code",
   "execution_count": 42,
   "metadata": {
    "collapsed": false
   },
   "outputs": [],
   "source": [
    "import numpy as np\n",
    "import scipy\n",
    "import matplotlib.pyplot as plt\n",
    "\n",
    "from IPython.core.interactiveshell import InteractiveShell\n",
    "InteractiveShell.ast_node_interactivity = \"all\""
   ]
  },
  {
   "cell_type": "code",
   "execution_count": 43,
   "metadata": {
    "collapsed": true
   },
   "outputs": [],
   "source": [
    "# gravity\n",
    "g = 9.81 # m/s^2\n",
    "\n",
    "# water density\n",
    "rhoSaltwater = 1023 # kg/m^3\n",
    "rhoFreshwater = 1000 # kg/m^3\n",
    "\n",
    "# pressure at 10 m\n",
    "maxPressure = rhoSaltwater*g*10 # Pa"
   ]
  },
  {
   "cell_type": "markdown",
   "metadata": {},
   "source": [
    "### Piston Parameters"
   ]
  },
  {
   "cell_type": "code",
   "execution_count": 55,
   "metadata": {
    "collapsed": false
   },
   "outputs": [
    {
     "data": {
      "text/plain": [
       "'Max displacement: 125.7 mL, or 1.23 N of buoyant force'"
      ]
     },
     "execution_count": 55,
     "metadata": {},
     "output_type": "execute_result"
    },
    {
     "data": {
      "text/plain": [
       "'Linear actuator will need to exert 252.22 N'"
      ]
     },
     "execution_count": 55,
     "metadata": {},
     "output_type": "execute_result"
    }
   ],
   "source": [
    "# Actuator stroke\n",
    "actStroke = 0.050 # meters\n",
    "\n",
    "# Number of cylinders\n",
    "numCyl = 2\n",
    "\n",
    "# Radius of cylinders\n",
    "cylRadius = 0.02 # meters\n",
    "\n",
    "# Total area of piston heads\n",
    "pistonArea = numCyl * np.pi * cylRadius**2 # m^2\n",
    "\n",
    "# Total volume pistons can displace\n",
    "maxVolPiston = numCyl*pistonArea*actStroke/2 # m^3\n",
    "maxVolPistonmL = maxVolPiston*1e6\n",
    "\n",
    "\"Max displacement: {:3.1f} mL, or {:3.2f} N of buoyant force\".format(maxVolPistonmL, maxVolPistonmL*0.00981)\n",
    "\n",
    "# max force on actuator\n",
    "maxForce = maxPressure*pistonArea\n",
    "\n",
    "\"Linear actuator will need to exert {:3.2f} N\".format(maxForce)"
   ]
  },
  {
   "cell_type": "code",
   "execution_count": 58,
   "metadata": {
    "collapsed": false
   },
   "outputs": [
    {
     "data": {
      "text/plain": [
       "[<matplotlib.lines.Line2D at 0x266d460ab70>]"
      ]
     },
     "execution_count": 58,
     "metadata": {},
     "output_type": "execute_result"
    },
    {
     "data": {
      "text/plain": [
       "<matplotlib.text.Text at 0x266d461c160>"
      ]
     },
     "execution_count": 58,
     "metadata": {},
     "output_type": "execute_result"
    },
    {
     "data": {
      "text/plain": [
       "<matplotlib.text.Text at 0x266d457dc18>"
      ]
     },
     "execution_count": 58,
     "metadata": {},
     "output_type": "execute_result"
    },
    {
     "data": {
      "text/plain": [
       "[<matplotlib.lines.Line2D at 0x266d4678f60>]"
      ]
     },
     "execution_count": 58,
     "metadata": {},
     "output_type": "execute_result"
    },
    {
     "data": {
      "text/plain": [
       "<matplotlib.text.Text at 0x266d46942e8>"
      ]
     },
     "execution_count": 58,
     "metadata": {},
     "output_type": "execute_result"
    },
    {
     "data": {
      "text/plain": [
       "<matplotlib.text.Text at 0x266d46b9f28>"
      ]
     },
     "execution_count": 58,
     "metadata": {},
     "output_type": "execute_result"
    },
    {
     "data": {
      "image/png": "[encoded data removed]",
      "text/plain": [
       "<matplotlib.figure.Figure at 0x266d460ab38>"
      ]
     },
     "metadata": {},
     "output_type": "display_data"
    }
   ],
   "source": [
    "# depth\n",
    "depth = np.arange(0,10.01,0.01)\n",
    "P = rhoSaltwater*g*depth/1000\n",
    "pistonForce = P*pistonArea*1000\n",
    "\n",
    "fig, ax1 = plt.subplots()\n",
    "ax1.plot(depth,P, 'b-')\n",
    "ax1.set_ylabel('Pressure (kPa)',color='b')\n",
    "ax1.set_xlabel('Depth (m)',color='b')\n",
    "\n",
    "ax2 = ax1.twinx()\n",
    "ax2.plot(depth,pistonForce,'r-')\n",
    "ax2.set_ylabel('Force on Actuator (N)',color='r')\n",
    "ax2.tick_params('y',color='r')\n",
    "\n",
    "plt.title('Force and pressure from 0 to 10 meters under the surface')\n",
    "fig.tight_layout()\n",
    "plt.show()"
   ]
  },
  {
   "cell_type": "markdown",
   "metadata": {},
   "source": [
    "### Model"
   ]
  },
  {
   "cell_type": "code",
   "execution_count": 14,
   "metadata": {
    "collapsed": false
   },
   "outputs": [
    {
     "name": "stdout",
     "output_type": "stream",
     "text": [
      "[ 0.0999375  0.39975    0.8994375  1.599      2.4984375  3.59775    4.8969375\n",
      "  6.396      8.0949375  9.99375  ]\n"
     ]
    }
   ],
   "source": [
    "\n",
    "\n",
    "# volume of craft\n",
    "volDisp = 0.08 * 0.12 * 0.15 # m^3\n",
    "\n",
    "# piston volume\n",
    "volPiston = np.arange(0.001,0.011,0.001)\n",
    "\n",
    "# total volume\n",
    "totalVolume = volDisp + volPiston\n",
    "\n",
    "# mass of craft\n",
    "totalMass = 1 # kg\n",
    "\n",
    "# bouyant force\n",
    "F_bouy = g*totalVolume*rhoSaltwater # N\n",
    "\n",
    "# drag coefficient\n",
    "C_drag = 1.3\n",
    "\n",
    "# cross-sectional area\n",
    "A_cross = 0.12*0.15 # m^2\n",
    "\n",
    "# Drag force\n",
    "F_drag = np.sign(vel)*0.5*C_drag*A*rhoSaltwater*vel**2 # N\n",
    "\n",
    "# Acceleration due to buoyancy control\n",
    "acc = (F_bouy - totalMass*g -np.sign(vel)*F_drag)/totalMass # m/s^2\n",
    "\n",
    "# velocity of craft (meters/sec)\n",
    "vel = np.arange(0.1,1+.1,0.1)\n",
    "\n"
   ]
  }
 ],
 "metadata": {
  "kernelspec": {
   "display_name": "Python 3",
   "language": "python",
   "name": "python3"
  },
  "language_info": {
   "codemirror_mode": {
    "name": "ipython",
    "version": 3
   },
   "file_extension": ".py",
   "mimetype": "text/x-python",
   "name": "python",
   "nbconvert_exporter": "python",
   "pygments_lexer": "ipython3",
   "version": "3.6.0"
  }
 },
 "nbformat": 4,
 "nbformat_minor": 2
}
